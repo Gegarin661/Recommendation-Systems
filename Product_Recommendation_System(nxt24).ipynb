{
 "cells": [
  {
   "cell_type": "code",
   "execution_count": 30,
   "id": "64ab33ec-fb57-4663-b005-89c624704dd0",
   "metadata": {},
   "outputs": [],
   "source": [
    "import numpy as np\n",
    "import pandas as pd\n",
    "import warnings\n",
    "warnings.filterwarnings('ignore')"
   ]
  },
  {
   "cell_type": "code",
   "execution_count": 31,
   "id": "a2c49322-534c-4d24-a6d5-a0d69a7928d9",
   "metadata": {},
   "outputs": [],
   "source": [
    "df = pd.read_csv(\"content_based_recommendation_dataset.csv\")\n",
    "df = df.drop_duplicates()"
   ]
  },
  {
   "cell_type": "code",
   "execution_count": 32,
   "id": "7da550d0-a486-4591-8c12-27d5abe66f2e",
   "metadata": {},
   "outputs": [
    {
     "data": {
      "text/plain": [
       "(1018, 13)"
      ]
     },
     "execution_count": 32,
     "metadata": {},
     "output_type": "execute_result"
    }
   ],
   "source": [
    "df.shape"
   ]
  },
  {
   "cell_type": "code",
   "execution_count": 33,
   "id": "9a703523-3924-47e8-b5b9-4a82a2bf7702",
   "metadata": {},
   "outputs": [
    {
     "data": {
      "text/plain": [
       "Index(['Number of clicks on similar products',\n",
       "       'Number of similar products purchased so far',\n",
       "       'Average rating given to similar products', 'Gender',\n",
       "       'Median purchasing price (in rupees)', 'Rating of the product',\n",
       "       'Brand of the product', 'Customer review sentiment score (overall)',\n",
       "       'Price of the product', 'Holiday', 'Season', 'Geographical locations',\n",
       "       'Probability for the product to be recommended to the person'],\n",
       "      dtype='object')"
      ]
     },
     "execution_count": 33,
     "metadata": {},
     "output_type": "execute_result"
    }
   ],
   "source": [
    "df.columns"
   ]
  },
  {
   "cell_type": "code",
   "execution_count": 34,
   "id": "51d70b53-7e49-46d2-8f0a-39380c1c864f",
   "metadata": {},
   "outputs": [],
   "source": [
    "df = df[[\"Number of similar products purchased so far\" , \n",
    "         \"Rating of the product\" , \"Gender\" , \"Median purchasing price (in rupees)\" ,  \n",
    "         \"Price of the product\" , \"Holiday\" , \"Season\" , \"Probability for the product to be recommended to the person\"]]"
   ]
  },
  {
   "cell_type": "code",
   "execution_count": 35,
   "id": "bb3bd7f1-661b-45b8-a47d-eb3336f102be",
   "metadata": {},
   "outputs": [
    {
     "data": {
      "text/html": [
       "<div>\n",
       "<style scoped>\n",
       "    .dataframe tbody tr th:only-of-type {\n",
       "        vertical-align: middle;\n",
       "    }\n",
       "\n",
       "    .dataframe tbody tr th {\n",
       "        vertical-align: top;\n",
       "    }\n",
       "\n",
       "    .dataframe thead th {\n",
       "        text-align: right;\n",
       "    }\n",
       "</style>\n",
       "<table border=\"1\" class=\"dataframe\">\n",
       "  <thead>\n",
       "    <tr style=\"text-align: right;\">\n",
       "      <th></th>\n",
       "      <th>Number of similar products purchased so far</th>\n",
       "      <th>Rating of the product</th>\n",
       "      <th>Gender</th>\n",
       "      <th>Median purchasing price (in rupees)</th>\n",
       "      <th>Price of the product</th>\n",
       "      <th>Holiday</th>\n",
       "      <th>Season</th>\n",
       "      <th>Probability for the product to be recommended to the person</th>\n",
       "    </tr>\n",
       "  </thead>\n",
       "  <tbody>\n",
       "    <tr>\n",
       "      <th>0</th>\n",
       "      <td>4</td>\n",
       "      <td>4.5</td>\n",
       "      <td>male</td>\n",
       "      <td>500</td>\n",
       "      <td>200</td>\n",
       "      <td>No</td>\n",
       "      <td>winter</td>\n",
       "      <td>0.9</td>\n",
       "    </tr>\n",
       "    <tr>\n",
       "      <th>1</th>\n",
       "      <td>2</td>\n",
       "      <td>3.2</td>\n",
       "      <td>female</td>\n",
       "      <td>3000</td>\n",
       "      <td>300</td>\n",
       "      <td>Yes</td>\n",
       "      <td>monsoon</td>\n",
       "      <td>0.2</td>\n",
       "    </tr>\n",
       "    <tr>\n",
       "      <th>2</th>\n",
       "      <td>10</td>\n",
       "      <td>4.8</td>\n",
       "      <td>female</td>\n",
       "      <td>600</td>\n",
       "      <td>1000</td>\n",
       "      <td>No</td>\n",
       "      <td>spring</td>\n",
       "      <td>0.7</td>\n",
       "    </tr>\n",
       "    <tr>\n",
       "      <th>3</th>\n",
       "      <td>1</td>\n",
       "      <td>2.5</td>\n",
       "      <td>female</td>\n",
       "      <td>100</td>\n",
       "      <td>300</td>\n",
       "      <td>No</td>\n",
       "      <td>summer</td>\n",
       "      <td>0.1</td>\n",
       "    </tr>\n",
       "    <tr>\n",
       "      <th>4</th>\n",
       "      <td>5</td>\n",
       "      <td>4.3</td>\n",
       "      <td>male</td>\n",
       "      <td>2000</td>\n",
       "      <td>700</td>\n",
       "      <td>Yes</td>\n",
       "      <td>winter</td>\n",
       "      <td>0.8</td>\n",
       "    </tr>\n",
       "  </tbody>\n",
       "</table>\n",
       "</div>"
      ],
      "text/plain": [
       "   Number of similar products purchased so far  Rating of the product  Gender  \\\n",
       "0                                            4                    4.5    male   \n",
       "1                                            2                    3.2  female   \n",
       "2                                           10                    4.8  female   \n",
       "3                                            1                    2.5  female   \n",
       "4                                            5                    4.3    male   \n",
       "\n",
       "   Median purchasing price (in rupees)  Price of the product Holiday   Season  \\\n",
       "0                                  500                   200      No   winter   \n",
       "1                                 3000                   300     Yes  monsoon   \n",
       "2                                  600                  1000      No   spring   \n",
       "3                                  100                   300      No   summer   \n",
       "4                                 2000                   700     Yes   winter   \n",
       "\n",
       "   Probability for the product to be recommended to the person  \n",
       "0                                                0.9            \n",
       "1                                                0.2            \n",
       "2                                                0.7            \n",
       "3                                                0.1            \n",
       "4                                                0.8            "
      ]
     },
     "execution_count": 35,
     "metadata": {},
     "output_type": "execute_result"
    }
   ],
   "source": [
    "df.head()"
   ]
  },
  {
   "cell_type": "code",
   "execution_count": 36,
   "id": "23dee2f7-1fba-43e9-b48d-f539d60572da",
   "metadata": {},
   "outputs": [
    {
     "data": {
      "text/plain": [
       "Number of similar products purchased so far                    0\n",
       "Rating of the product                                          0\n",
       "Gender                                                         0\n",
       "Median purchasing price (in rupees)                            0\n",
       "Price of the product                                           0\n",
       "Holiday                                                        0\n",
       "Season                                                         0\n",
       "Probability for the product to be recommended to the person    0\n",
       "dtype: int64"
      ]
     },
     "execution_count": 36,
     "metadata": {},
     "output_type": "execute_result"
    }
   ],
   "source": [
    "df.isnull().sum()"
   ]
  },
  {
   "cell_type": "code",
   "execution_count": 37,
   "id": "6073957c-f324-4d97-8042-9ef2c560031a",
   "metadata": {},
   "outputs": [],
   "source": [
    "# Label Encoding\n",
    "replacement_mapping = {\n",
    "    \"male\" : 1,\n",
    "    \"female\" : 0,\n",
    "    \"Yes\" : 1,\n",
    "    \"No\" : 0\n",
    "}\n",
    "\n",
    "df[\"Gender\"] = df[\"Gender\"].replace(replacement_mapping)\n",
    "df[\"Holiday\"] = df[\"Holiday\"].replace(replacement_mapping)"
   ]
  },
  {
   "cell_type": "code",
   "execution_count": 38,
   "id": "e7b1608c-62e2-48d8-9e82-c463d54baf82",
   "metadata": {},
   "outputs": [
    {
     "data": {
      "text/plain": [
       "Number of similar products purchased so far                    0\n",
       "Rating of the product                                          0\n",
       "Gender                                                         0\n",
       "Median purchasing price (in rupees)                            0\n",
       "Price of the product                                           0\n",
       "Holiday                                                        0\n",
       "Season                                                         0\n",
       "Probability for the product to be recommended to the person    0\n",
       "dtype: int64"
      ]
     },
     "execution_count": 38,
     "metadata": {},
     "output_type": "execute_result"
    }
   ],
   "source": [
    "df.isnull().sum()"
   ]
  },
  {
   "cell_type": "code",
   "execution_count": 39,
   "id": "39bbd178-aa7c-40e4-b49d-083911707545",
   "metadata": {},
   "outputs": [],
   "source": [
    "# One Hot Encoding on Season\n",
    "\n",
    "one_hot_encoded = pd.get_dummies(df['Season'], prefix='')\n",
    "one_hot_encoded = one_hot_encoded.astype(int)\n",
    "df = pd.concat([df, one_hot_encoded], axis=1)\n",
    "df.drop(\"Season\", axis=1, inplace=True)"
   ]
  },
  {
   "cell_type": "code",
   "execution_count": 40,
   "id": "c7caec68-abd3-46c9-8d3d-33c09e4cd11c",
   "metadata": {},
   "outputs": [
    {
     "data": {
      "text/plain": [
       "Number of similar products purchased so far                    0\n",
       "Rating of the product                                          0\n",
       "Gender                                                         0\n",
       "Median purchasing price (in rupees)                            0\n",
       "Price of the product                                           0\n",
       "Holiday                                                        0\n",
       "Probability for the product to be recommended to the person    0\n",
       "_monsoon                                                       0\n",
       "_spring                                                        0\n",
       "_summer                                                        0\n",
       "_winter                                                        0\n",
       "dtype: int64"
      ]
     },
     "execution_count": 40,
     "metadata": {},
     "output_type": "execute_result"
    }
   ],
   "source": [
    "df.isnull().sum()"
   ]
  },
  {
   "cell_type": "code",
   "execution_count": 41,
   "id": "cae20ecd-1df8-46ec-b48f-7a920be7dcf3",
   "metadata": {},
   "outputs": [],
   "source": [
    "df.reset_index(inplace = True)"
   ]
  },
  {
   "cell_type": "code",
   "execution_count": 42,
   "id": "c3bdf005-cf0e-41de-ac57-268846158805",
   "metadata": {},
   "outputs": [],
   "source": [
    "from sklearn.preprocessing import StandardScaler\n",
    "\n",
    "# Columns to be scaled\n",
    "columns_to_scale = ['Median purchasing price (in rupees)', 'Price of the product']\n",
    "\n",
    "scaler = StandardScaler()\n",
    "for target_column in columns_to_scale:\n",
    "    scaled_data = scaler.fit_transform(df[[target_column]])\n",
    "    scaled_df = pd.DataFrame(scaled_data, columns=[target_column])\n",
    "    scaled_df.reset_index(inplace = True)\n",
    "    df[target_column] = scaled_df[target_column]"
   ]
  },
  {
   "cell_type": "code",
   "execution_count": 43,
   "id": "5c74dbf8-d3df-4b7a-a356-35a16b022602",
   "metadata": {},
   "outputs": [
    {
     "data": {
      "text/plain": [
       "0      -0.533843\n",
       "1      -0.486805\n",
       "2      -0.157540\n",
       "3      -0.486805\n",
       "4      -0.298654\n",
       "          ...   \n",
       "1013   -0.486805\n",
       "1014   -0.345692\n",
       "1015   -0.204578\n",
       "1016   -0.392730\n",
       "1017   -0.345692\n",
       "Name: Price of the product, Length: 1018, dtype: float64"
      ]
     },
     "execution_count": 43,
     "metadata": {},
     "output_type": "execute_result"
    }
   ],
   "source": [
    "scaled_df[\"Price of the product\"]"
   ]
  },
  {
   "cell_type": "code",
   "execution_count": 44,
   "id": "db662861-e048-4fd5-b29d-a4f20967ef92",
   "metadata": {},
   "outputs": [
    {
     "data": {
      "text/plain": [
       "index                                                          0\n",
       "Number of similar products purchased so far                    0\n",
       "Rating of the product                                          0\n",
       "Gender                                                         0\n",
       "Median purchasing price (in rupees)                            0\n",
       "Price of the product                                           0\n",
       "Holiday                                                        0\n",
       "Probability for the product to be recommended to the person    0\n",
       "_monsoon                                                       0\n",
       "_spring                                                        0\n",
       "_summer                                                        0\n",
       "_winter                                                        0\n",
       "dtype: int64"
      ]
     },
     "execution_count": 44,
     "metadata": {},
     "output_type": "execute_result"
    }
   ],
   "source": [
    "df.isnull().sum()"
   ]
  },
  {
   "cell_type": "code",
   "execution_count": 45,
   "id": "f8c7d4af-c990-4ff9-a10b-8bccbafd6688",
   "metadata": {},
   "outputs": [
    {
     "data": {
      "text/html": [
       "<div>\n",
       "<style scoped>\n",
       "    .dataframe tbody tr th:only-of-type {\n",
       "        vertical-align: middle;\n",
       "    }\n",
       "\n",
       "    .dataframe tbody tr th {\n",
       "        vertical-align: top;\n",
       "    }\n",
       "\n",
       "    .dataframe thead th {\n",
       "        text-align: right;\n",
       "    }\n",
       "</style>\n",
       "<table border=\"1\" class=\"dataframe\">\n",
       "  <thead>\n",
       "    <tr style=\"text-align: right;\">\n",
       "      <th></th>\n",
       "      <th>index</th>\n",
       "      <th>Number of similar products purchased so far</th>\n",
       "      <th>Rating of the product</th>\n",
       "      <th>Gender</th>\n",
       "      <th>Median purchasing price (in rupees)</th>\n",
       "      <th>Price of the product</th>\n",
       "      <th>Holiday</th>\n",
       "      <th>Probability for the product to be recommended to the person</th>\n",
       "      <th>_monsoon</th>\n",
       "      <th>_spring</th>\n",
       "      <th>_summer</th>\n",
       "      <th>_winter</th>\n",
       "    </tr>\n",
       "  </thead>\n",
       "  <tbody>\n",
       "    <tr>\n",
       "      <th>0</th>\n",
       "      <td>0</td>\n",
       "      <td>4</td>\n",
       "      <td>4.5</td>\n",
       "      <td>1</td>\n",
       "      <td>-0.780803</td>\n",
       "      <td>-0.533843</td>\n",
       "      <td>0</td>\n",
       "      <td>0.9</td>\n",
       "      <td>0</td>\n",
       "      <td>0</td>\n",
       "      <td>0</td>\n",
       "      <td>1</td>\n",
       "    </tr>\n",
       "    <tr>\n",
       "      <th>1</th>\n",
       "      <td>1</td>\n",
       "      <td>2</td>\n",
       "      <td>3.2</td>\n",
       "      <td>0</td>\n",
       "      <td>-0.018569</td>\n",
       "      <td>-0.486805</td>\n",
       "      <td>1</td>\n",
       "      <td>0.2</td>\n",
       "      <td>1</td>\n",
       "      <td>0</td>\n",
       "      <td>0</td>\n",
       "      <td>0</td>\n",
       "    </tr>\n",
       "    <tr>\n",
       "      <th>2</th>\n",
       "      <td>2</td>\n",
       "      <td>10</td>\n",
       "      <td>4.8</td>\n",
       "      <td>0</td>\n",
       "      <td>-0.750314</td>\n",
       "      <td>-0.157540</td>\n",
       "      <td>0</td>\n",
       "      <td>0.7</td>\n",
       "      <td>0</td>\n",
       "      <td>1</td>\n",
       "      <td>0</td>\n",
       "      <td>0</td>\n",
       "    </tr>\n",
       "    <tr>\n",
       "      <th>3</th>\n",
       "      <td>3</td>\n",
       "      <td>1</td>\n",
       "      <td>2.5</td>\n",
       "      <td>0</td>\n",
       "      <td>-0.902761</td>\n",
       "      <td>-0.486805</td>\n",
       "      <td>0</td>\n",
       "      <td>0.1</td>\n",
       "      <td>0</td>\n",
       "      <td>0</td>\n",
       "      <td>1</td>\n",
       "      <td>0</td>\n",
       "    </tr>\n",
       "    <tr>\n",
       "      <th>4</th>\n",
       "      <td>4</td>\n",
       "      <td>5</td>\n",
       "      <td>4.3</td>\n",
       "      <td>1</td>\n",
       "      <td>-0.323463</td>\n",
       "      <td>-0.298654</td>\n",
       "      <td>1</td>\n",
       "      <td>0.8</td>\n",
       "      <td>0</td>\n",
       "      <td>0</td>\n",
       "      <td>0</td>\n",
       "      <td>1</td>\n",
       "    </tr>\n",
       "  </tbody>\n",
       "</table>\n",
       "</div>"
      ],
      "text/plain": [
       "   index  Number of similar products purchased so far  Rating of the product  \\\n",
       "0      0                                            4                    4.5   \n",
       "1      1                                            2                    3.2   \n",
       "2      2                                           10                    4.8   \n",
       "3      3                                            1                    2.5   \n",
       "4      4                                            5                    4.3   \n",
       "\n",
       "   Gender  Median purchasing price (in rupees)  Price of the product  Holiday  \\\n",
       "0       1                            -0.780803             -0.533843        0   \n",
       "1       0                            -0.018569             -0.486805        1   \n",
       "2       0                            -0.750314             -0.157540        0   \n",
       "3       0                            -0.902761             -0.486805        0   \n",
       "4       1                            -0.323463             -0.298654        1   \n",
       "\n",
       "   Probability for the product to be recommended to the person  _monsoon  \\\n",
       "0                                                0.9                   0   \n",
       "1                                                0.2                   1   \n",
       "2                                                0.7                   0   \n",
       "3                                                0.1                   0   \n",
       "4                                                0.8                   0   \n",
       "\n",
       "   _spring  _summer  _winter  \n",
       "0        0        0        1  \n",
       "1        0        0        0  \n",
       "2        1        0        0  \n",
       "3        0        1        0  \n",
       "4        0        0        1  "
      ]
     },
     "execution_count": 45,
     "metadata": {},
     "output_type": "execute_result"
    }
   ],
   "source": [
    "df.head()"
   ]
  },
  {
   "cell_type": "code",
   "execution_count": 46,
   "id": "444f4817-a7a8-4dcc-a89b-b0daab7b70e3",
   "metadata": {},
   "outputs": [
    {
     "data": {
      "text/plain": [
       "(1018, 12)"
      ]
     },
     "execution_count": 46,
     "metadata": {},
     "output_type": "execute_result"
    }
   ],
   "source": [
    "df.shape"
   ]
  },
  {
   "cell_type": "code",
   "execution_count": 47,
   "id": "c73bc8d4-ba56-4dc6-a715-0fca5c3ae3f3",
   "metadata": {},
   "outputs": [
    {
     "data": {
      "text/plain": [
       "index                                                          0\n",
       "Number of similar products purchased so far                    0\n",
       "Rating of the product                                          0\n",
       "Gender                                                         0\n",
       "Median purchasing price (in rupees)                            0\n",
       "Price of the product                                           0\n",
       "Holiday                                                        0\n",
       "Probability for the product to be recommended to the person    0\n",
       "_monsoon                                                       0\n",
       "_spring                                                        0\n",
       "_summer                                                        0\n",
       "_winter                                                        0\n",
       "dtype: int64"
      ]
     },
     "execution_count": 47,
     "metadata": {},
     "output_type": "execute_result"
    }
   ],
   "source": [
    "df.isnull().sum()"
   ]
  },
  {
   "cell_type": "code",
   "execution_count": 48,
   "id": "312af87f-b9a7-47e8-b192-c98e329909d3",
   "metadata": {},
   "outputs": [
    {
     "name": "stdout",
     "output_type": "stream",
     "text": [
      "index\n",
      "Number of similar products purchased so far\n",
      "Rating of the product\n",
      "Gender\n",
      "Median purchasing price (in rupees)\n",
      "Price of the product\n",
      "Holiday\n",
      "Probability for the product to be recommended to the person\n",
      "_monsoon\n",
      "_spring\n",
      "_summer\n",
      "_winter\n"
     ]
    }
   ],
   "source": [
    "for column in df.columns:\n",
    "    print(column)"
   ]
  },
  {
   "cell_type": "code",
   "execution_count": 49,
   "id": "042e324e-d663-4899-bdcd-f3714a1bf36f",
   "metadata": {},
   "outputs": [
    {
     "data": {
      "text/plain": [
       "Index(['index', 'Number of similar products purchased so far',\n",
       "       'Rating of the product', 'Gender',\n",
       "       'Median purchasing price (in rupees)', 'Price of the product',\n",
       "       'Holiday',\n",
       "       'Probability for the product to be recommended to the person',\n",
       "       '_monsoon', '_spring', '_summer', '_winter'],\n",
       "      dtype='object')"
      ]
     },
     "execution_count": 49,
     "metadata": {},
     "output_type": "execute_result"
    }
   ],
   "source": [
    "df.columns"
   ]
  },
  {
   "cell_type": "code",
   "execution_count": 50,
   "id": "5b63b0aa-a264-48d5-a24a-25f14bc74b25",
   "metadata": {},
   "outputs": [
    {
     "data": {
      "text/plain": [
       "index                                                          0\n",
       "Number of similar products purchased so far                    0\n",
       "Rating of the product                                          0\n",
       "Gender                                                         0\n",
       "Median purchasing price (in rupees)                            0\n",
       "Price of the product                                           0\n",
       "Holiday                                                        0\n",
       "Probability for the product to be recommended to the person    0\n",
       "_monsoon                                                       0\n",
       "_spring                                                        0\n",
       "_summer                                                        0\n",
       "_winter                                                        0\n",
       "dtype: int64"
      ]
     },
     "execution_count": 50,
     "metadata": {},
     "output_type": "execute_result"
    }
   ],
   "source": [
    "df.isnull().sum()"
   ]
  },
  {
   "cell_type": "code",
   "execution_count": 51,
   "id": "c882df1c-d104-4303-b9c0-17c72e642a64",
   "metadata": {},
   "outputs": [],
   "source": [
    "x = df[['Number of similar products purchased so far', 'Rating of the product',\n",
    "       'Gender', 'Holiday',\n",
    "       '_monsoon', '_spring', '_summer', '_winter',\n",
    "       'Median purchasing price (in rupees)', 'Price of the product']]\n",
    "Y = df[['Probability for the product to be recommended to the person']]"
   ]
  },
  {
   "cell_type": "code",
   "execution_count": 52,
   "id": "962eafc7-f256-44ed-a827-9763eab92449",
   "metadata": {},
   "outputs": [],
   "source": [
    "from sklearn.model_selection import train_test_split\n",
    "\n",
    "x_train, x_test, Y_train, Y_test = train_test_split(x, Y, test_size=0.2, random_state=42)"
   ]
  },
  {
   "cell_type": "code",
   "execution_count": 53,
   "id": "c1b2faaa-fe20-4fbb-9ebb-d2c10d770611",
   "metadata": {},
   "outputs": [],
   "source": [
    "import time\n",
    "from sklearn.metrics import mean_squared_error\n",
    "\n",
    "def evaluation(model, x_train, x_test, y_train, y_test):\n",
    "    # Training data evaluation\n",
    "    y_train_pred = model.predict(x_train)\n",
    "    train_rmse = mean_squared_error(y_train, y_train_pred, squared=False)\n",
    "    train_mse = mean_squared_error(y_train, y_train_pred)\n",
    "    \n",
    "    # Testing data evaluation\n",
    "    y_test_pred = model.predict(x_test)\n",
    "    test_rmse = mean_squared_error(y_test, y_test_pred, squared=False)\n",
    "    test_mse = mean_squared_error(y_test, y_test_pred)\n",
    "    \n",
    "    # Inference time for a single row sample from x_train\n",
    "    start_time = time.time()\n",
    "    _ = model.predict([x_train.iloc[0]])\n",
    "    end_time = time.time()\n",
    "    inference_time = end_time - start_time\n",
    "    \n",
    "    return {\n",
    "        'Training RMSE': train_rmse,\n",
    "        'Training MSE': train_mse,\n",
    "        'Testing RMSE': test_rmse,\n",
    "        'Testing MSE': test_mse,\n",
    "        'Inference Time': inference_time\n",
    "    }"
   ]
  },
  {
   "cell_type": "code",
   "execution_count": 54,
   "id": "7135967b-54ce-4e30-b261-b8cd8dffd116",
   "metadata": {},
   "outputs": [
    {
     "data": {
      "text/plain": [
       "{'Training RMSE': 0.1288270765376349,\n",
       " 'Training MSE': 0.016596415649233635,\n",
       " 'Testing RMSE': 0.12318871651898092,\n",
       " 'Testing MSE': 0.015175459877593844,\n",
       " 'Inference Time': 0.0}"
      ]
     },
     "execution_count": 54,
     "metadata": {},
     "output_type": "execute_result"
    }
   ],
   "source": [
    "# Linear Regression\n",
    "\n",
    "from sklearn.linear_model import LinearRegression\n",
    "from sklearn.metrics import mean_squared_error\n",
    "\n",
    "model = LinearRegression()\n",
    "model.fit(x_train, Y_train)\n",
    "\n",
    "outputs = evaluation(model , x_train, x_test, Y_train, Y_test)\n",
    "outputs"
   ]
  },
  {
   "cell_type": "code",
   "execution_count": 55,
   "id": "227691cc-4331-4643-b94b-b09df43f4c06",
   "metadata": {},
   "outputs": [
    {
     "name": "stdout",
     "output_type": "stream",
     "text": [
      "linear\n",
      "{'Training RMSE': 0.12919978660114836, 'Training MSE': 0.016692584857782276, 'Testing RMSE': 0.12385997559140319, 'Testing MSE': 0.015341293553502994, 'Inference Time': 0.0}\n",
      "poly\n",
      "{'Training RMSE': 0.13138242716646126, 'Training MSE': 0.0172613421681505, 'Testing RMSE': 0.126600582682952, 'Testing MSE': 0.01602770753566296, 'Inference Time': 0.0}\n",
      "rbf\n",
      "{'Training RMSE': 0.11874037651621795, 'Training MSE': 0.014099277015213204, 'Testing RMSE': 0.11847773374698899, 'Testing MSE': 0.014036973393822412, 'Inference Time': 0.0}\n",
      "sigmoid\n",
      "{'Training RMSE': 21.27648299991708, 'Training MSE': 452.6887288457604, 'Testing RMSE': 22.750477454012433, 'Testing MSE': 517.584224385528, 'Inference Time': 0.0}\n"
     ]
    }
   ],
   "source": [
    "# Support Vector Regressor\n",
    "from sklearn.svm import SVR\n",
    "\n",
    "for type in ['linear' , 'poly' , 'rbf' , 'sigmoid']:\n",
    "    print(type)\n",
    "    model = SVR(kernel = type)\n",
    "    model.fit(x_train, Y_train)\n",
    "\n",
    "    outputs = evaluation(model , x_train, x_test, Y_train, Y_test)\n",
    "    print(outputs)"
   ]
  },
  {
   "cell_type": "code",
   "execution_count": 56,
   "id": "2acb80f3-651b-4bf4-9373-4044526429c5",
   "metadata": {},
   "outputs": [
    {
     "data": {
      "text/plain": [
       "{'Training RMSE': 0.036789484165126986,\n",
       " 'Training MSE': 0.001353466145136129,\n",
       " 'Testing RMSE': 0.08449280171912574,\n",
       " 'Testing MSE': 0.007139033542347496,\n",
       " 'Inference Time': 0.015626907348632812}"
      ]
     },
     "execution_count": 56,
     "metadata": {},
     "output_type": "execute_result"
    }
   ],
   "source": [
    "# Random Forest Regressor\n",
    "from sklearn.ensemble import RandomForestRegressor\n",
    "model = RandomForestRegressor(n_estimators=100, random_state=42)\n",
    "\n",
    "model.fit(x_train, Y_train)\n",
    "\n",
    "outputs = evaluation(model , x_train, x_test, Y_train, Y_test)\n",
    "outputs"
   ]
  },
  {
   "cell_type": "code",
   "execution_count": null,
   "id": "d1b2000e-0194-467b-b8e7-b78ad0b125a5",
   "metadata": {},
   "outputs": [],
   "source": []
  }
 ],
 "metadata": {
  "kernelspec": {
   "display_name": "Python 3 (ipykernel)",
   "language": "python",
   "name": "python3"
  },
  "language_info": {
   "codemirror_mode": {
    "name": "ipython",
    "version": 3
   },
   "file_extension": ".py",
   "mimetype": "text/x-python",
   "name": "python",
   "nbconvert_exporter": "python",
   "pygments_lexer": "ipython3",
   "version": "3.12.2"
  }
 },
 "nbformat": 4,
 "nbformat_minor": 5
}
